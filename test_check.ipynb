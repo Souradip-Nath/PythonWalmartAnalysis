{
 "metadata": {
  "language_info": {
   "codemirror_mode": {
    "name": "ipython",
    "version": 3
   },
   "file_extension": ".py",
   "mimetype": "text/x-python",
   "name": "python",
   "nbconvert_exporter": "python",
   "pygments_lexer": "ipython3",
   "version": "3.8.5-final"
  },
  "orig_nbformat": 2,
  "kernelspec": {
   "name": "python3",
   "display_name": "Python 3.8.5 32-bit",
   "metadata": {
    "interpreter": {
     "hash": "d0868b306347044f6aee136642a0bbc9c2a57699e779c94d9f4fdb1d7c986e97"
    }
   }
  }
 },
 "nbformat": 4,
 "nbformat_minor": 2,
 "cells": [
  {
   "cell_type": "code",
   "execution_count": 2,
   "metadata": {},
   "outputs": [
    {
     "output_type": "execute_result",
     "data": {
      "text/plain": [
       "   Store        Date  Weekly_Sales  Holiday_Flag  Temperature  Fuel_Price  \\\n",
       "0      1  05-02-2010    1643690.90             0        42.31        2.57   \n",
       "1      1  12-02-2010    1641957.44             1        38.51        2.55   \n",
       "2      1  19-02-2010    1611968.17             0        39.93        2.51   \n",
       "3      1  26-02-2010    1409727.59             0        46.63        2.56   \n",
       "4      1  05-03-2010    1554806.68             0        46.50        2.62   \n",
       "\n",
       "     CPI  Unemployment  \n",
       "0 211.10          8.11  \n",
       "1 211.24          8.11  \n",
       "2 211.29          8.11  \n",
       "3 211.32          8.11  \n",
       "4 211.35          8.11  "
      ],
      "text/html": "<div>\n<style scoped>\n    .dataframe tbody tr th:only-of-type {\n        vertical-align: middle;\n    }\n\n    .dataframe tbody tr th {\n        vertical-align: top;\n    }\n\n    .dataframe thead th {\n        text-align: right;\n    }\n</style>\n<table border=\"1\" class=\"dataframe\">\n  <thead>\n    <tr style=\"text-align: right;\">\n      <th></th>\n      <th>Store</th>\n      <th>Date</th>\n      <th>Weekly_Sales</th>\n      <th>Holiday_Flag</th>\n      <th>Temperature</th>\n      <th>Fuel_Price</th>\n      <th>CPI</th>\n      <th>Unemployment</th>\n    </tr>\n  </thead>\n  <tbody>\n    <tr>\n      <th>0</th>\n      <td>1</td>\n      <td>05-02-2010</td>\n      <td>1643690.90</td>\n      <td>0</td>\n      <td>42.31</td>\n      <td>2.57</td>\n      <td>211.10</td>\n      <td>8.11</td>\n    </tr>\n    <tr>\n      <th>1</th>\n      <td>1</td>\n      <td>12-02-2010</td>\n      <td>1641957.44</td>\n      <td>1</td>\n      <td>38.51</td>\n      <td>2.55</td>\n      <td>211.24</td>\n      <td>8.11</td>\n    </tr>\n    <tr>\n      <th>2</th>\n      <td>1</td>\n      <td>19-02-2010</td>\n      <td>1611968.17</td>\n      <td>0</td>\n      <td>39.93</td>\n      <td>2.51</td>\n      <td>211.29</td>\n      <td>8.11</td>\n    </tr>\n    <tr>\n      <th>3</th>\n      <td>1</td>\n      <td>26-02-2010</td>\n      <td>1409727.59</td>\n      <td>0</td>\n      <td>46.63</td>\n      <td>2.56</td>\n      <td>211.32</td>\n      <td>8.11</td>\n    </tr>\n    <tr>\n      <th>4</th>\n      <td>1</td>\n      <td>05-03-2010</td>\n      <td>1554806.68</td>\n      <td>0</td>\n      <td>46.50</td>\n      <td>2.62</td>\n      <td>211.35</td>\n      <td>8.11</td>\n    </tr>\n  </tbody>\n</table>\n</div>"
     },
     "metadata": {},
     "execution_count": 2
    }
   ],
   "source": [
    "import read_data\n",
    "import basic_stats as bs\n",
    "path=r\"C:\\Users\\souradipn408\\Documents\\Data Science\\ScikitLearn\\PythonWalmartAnalysis\\Walmart_Store_sales.csv\"\n",
    "df2=read_data.read_data(path)\n",
    "walmart_data=df2\n",
    "df2.head()\n"
   ]
  },
  {
   "cell_type": "code",
   "execution_count": 283,
   "metadata": {},
   "outputs": [
    {
     "output_type": "execute_result",
     "data": {
      "text/plain": [
       "    Store       Date  Weekly_Sales  Holiday_Flag  Temperature  Fuel_Price  \\\n",
       "34      1 2010-01-10    1453329.50             0        71.89        2.60   \n",
       "8       1 2010-02-04    1594968.28             0        62.27        2.72   \n",
       "21      1 2010-02-07    1492418.14             0        80.91        2.67   \n",
       "2       1 2010-02-19    1611968.17             0        39.93        2.51   \n",
       "3       1 2010-02-26    1409727.59             0        46.63        2.56   \n",
       "\n",
       "      CPI  Unemployment  \n",
       "34 211.67          7.84  \n",
       "8  210.82          7.81  \n",
       "21 211.22          7.79  \n",
       "2  211.29          8.11  \n",
       "3  211.32          8.11  "
      ],
      "text/html": "<div>\n<style scoped>\n    .dataframe tbody tr th:only-of-type {\n        vertical-align: middle;\n    }\n\n    .dataframe tbody tr th {\n        vertical-align: top;\n    }\n\n    .dataframe thead th {\n        text-align: right;\n    }\n</style>\n<table border=\"1\" class=\"dataframe\">\n  <thead>\n    <tr style=\"text-align: right;\">\n      <th></th>\n      <th>Store</th>\n      <th>Date</th>\n      <th>Weekly_Sales</th>\n      <th>Holiday_Flag</th>\n      <th>Temperature</th>\n      <th>Fuel_Price</th>\n      <th>CPI</th>\n      <th>Unemployment</th>\n    </tr>\n  </thead>\n  <tbody>\n    <tr>\n      <th>34</th>\n      <td>1</td>\n      <td>2010-01-10</td>\n      <td>1453329.50</td>\n      <td>0</td>\n      <td>71.89</td>\n      <td>2.60</td>\n      <td>211.67</td>\n      <td>7.84</td>\n    </tr>\n    <tr>\n      <th>8</th>\n      <td>1</td>\n      <td>2010-02-04</td>\n      <td>1594968.28</td>\n      <td>0</td>\n      <td>62.27</td>\n      <td>2.72</td>\n      <td>210.82</td>\n      <td>7.81</td>\n    </tr>\n    <tr>\n      <th>21</th>\n      <td>1</td>\n      <td>2010-02-07</td>\n      <td>1492418.14</td>\n      <td>0</td>\n      <td>80.91</td>\n      <td>2.67</td>\n      <td>211.22</td>\n      <td>7.79</td>\n    </tr>\n    <tr>\n      <th>2</th>\n      <td>1</td>\n      <td>2010-02-19</td>\n      <td>1611968.17</td>\n      <td>0</td>\n      <td>39.93</td>\n      <td>2.51</td>\n      <td>211.29</td>\n      <td>8.11</td>\n    </tr>\n    <tr>\n      <th>3</th>\n      <td>1</td>\n      <td>2010-02-26</td>\n      <td>1409727.59</td>\n      <td>0</td>\n      <td>46.63</td>\n      <td>2.56</td>\n      <td>211.32</td>\n      <td>8.11</td>\n    </tr>\n  </tbody>\n</table>\n</div>"
     },
     "metadata": {},
     "execution_count": 283
    }
   ],
   "source": [
    "import numpy as np\n",
    "import pandas as pd\n",
    "#df2.insert(2,'C',value=1)\n",
    "#temp=np.arange(df2.shape[0])+1\n",
    "#df2.insert(2,'B',np.arange(df2.shape[0])+1)\n",
    "df3=df2\n",
    "df3[\"Date\"]=pd.to_datetime(df3[\"Date\"])\n",
    "df3=df3.sort_values('Date',ascending=True)\n",
    "df3[df3.Store==1].head()"
   ]
  },
  {
   "cell_type": "code",
   "execution_count": 284,
   "metadata": {},
   "outputs": [],
   "source": [
    "store=1\n",
    "df_x=df2[df2.Store==store][['Fuel_Price','CPI','Unemployment']]\n",
    "df_y=df2[df2.Store==store][['Weekly_Sales']]"
   ]
  },
  {
   "cell_type": "code",
   "execution_count": 285,
   "metadata": {},
   "outputs": [
    {
     "output_type": "stream",
     "name": "stdout",
     "text": [
      "[[-61662.49536693  16438.16643671  89159.27452965]]\n"
     ]
    }
   ],
   "source": [
    "from sklearn.linear_model import LinearRegression as lr\n",
    "from sklearn.model_selection import train_test_split as tts\n",
    "reg=lr()\n",
    "x_train,x_test,y_train,y_test=tts(df_x,df_y,test_size=0.3)\n",
    "reg.fit(x_train,y_train)\n",
    "print(reg.coef_)"
   ]
  },
  {
   "cell_type": "code",
   "execution_count": 286,
   "metadata": {},
   "outputs": [],
   "source": [
    "#print(reg.predict(x_test))\n",
    "df4=pd.DataFrame(reg.predict(x_test),columns=[\"y_pred\"])\n",
    "y_pred=reg.predict(x_test)"
   ]
  },
  {
   "cell_type": "code",
   "execution_count": 287,
   "metadata": {},
   "outputs": [
    {
     "output_type": "stream",
     "name": "stdout",
     "text": [
      "14654779160.521496\n"
     ]
    }
   ],
   "source": [
    "from sklearn.metrics import mean_squared_error as mse\n",
    "print(mse(y_test,y_pred))"
   ]
  },
  {
   "cell_type": "code",
   "execution_count": 289,
   "metadata": {},
   "outputs": [
    {
     "output_type": "stream",
     "name": "stdout",
     "text": [
      "0.15953\n"
     ]
    },
    {
     "output_type": "execute_result",
     "data": {
      "text/plain": [
       "0.15953142786312435"
      ]
     },
     "metadata": {},
     "execution_count": 289
    }
   ],
   "source": [
    "from sklearn.metrics import r2_score\n",
    "print(round(r2_score(y_test,y_pred),5))\n",
    "r2_score(y_test,y_pred)"
   ]
  },
  {
   "cell_type": "code",
   "execution_count": 320,
   "metadata": {},
   "outputs": [
    {
     "output_type": "execute_result",
     "data": {
      "text/plain": [
       "   Store        Date  Weekly_Sales  Holiday_Flag  Temperature  Fuel_Price  \\\n",
       "0      1  05-02-2010    1643690.90             0        42.31        2.57   \n",
       "1      1  12-02-2010    1641957.44             1        38.51        2.55   \n",
       "2      1  19-02-2010    1611968.17             0        39.93        2.51   \n",
       "3      1  26-02-2010    1409727.59             0        46.63        2.56   \n",
       "4      1  05-03-2010    1554806.68             0        46.50        2.62   \n",
       "\n",
       "     CPI  Unemployment       Day  \n",
       "0 211.10          8.11    Sunday  \n",
       "1 211.24          8.11  Thursday  \n",
       "2 211.29          8.11    Friday  \n",
       "3 211.32          8.11    Friday  \n",
       "4 211.35          8.11    Monday  "
      ],
      "text/html": "<div>\n<style scoped>\n    .dataframe tbody tr th:only-of-type {\n        vertical-align: middle;\n    }\n\n    .dataframe tbody tr th {\n        vertical-align: top;\n    }\n\n    .dataframe thead th {\n        text-align: right;\n    }\n</style>\n<table border=\"1\" class=\"dataframe\">\n  <thead>\n    <tr style=\"text-align: right;\">\n      <th></th>\n      <th>Store</th>\n      <th>Date</th>\n      <th>Weekly_Sales</th>\n      <th>Holiday_Flag</th>\n      <th>Temperature</th>\n      <th>Fuel_Price</th>\n      <th>CPI</th>\n      <th>Unemployment</th>\n      <th>Day</th>\n    </tr>\n  </thead>\n  <tbody>\n    <tr>\n      <th>0</th>\n      <td>1</td>\n      <td>05-02-2010</td>\n      <td>1643690.90</td>\n      <td>0</td>\n      <td>42.31</td>\n      <td>2.57</td>\n      <td>211.10</td>\n      <td>8.11</td>\n      <td>Sunday</td>\n    </tr>\n    <tr>\n      <th>1</th>\n      <td>1</td>\n      <td>12-02-2010</td>\n      <td>1641957.44</td>\n      <td>1</td>\n      <td>38.51</td>\n      <td>2.55</td>\n      <td>211.24</td>\n      <td>8.11</td>\n      <td>Thursday</td>\n    </tr>\n    <tr>\n      <th>2</th>\n      <td>1</td>\n      <td>19-02-2010</td>\n      <td>1611968.17</td>\n      <td>0</td>\n      <td>39.93</td>\n      <td>2.51</td>\n      <td>211.29</td>\n      <td>8.11</td>\n      <td>Friday</td>\n    </tr>\n    <tr>\n      <th>3</th>\n      <td>1</td>\n      <td>26-02-2010</td>\n      <td>1409727.59</td>\n      <td>0</td>\n      <td>46.63</td>\n      <td>2.56</td>\n      <td>211.32</td>\n      <td>8.11</td>\n      <td>Friday</td>\n    </tr>\n    <tr>\n      <th>4</th>\n      <td>1</td>\n      <td>05-03-2010</td>\n      <td>1554806.68</td>\n      <td>0</td>\n      <td>46.50</td>\n      <td>2.62</td>\n      <td>211.35</td>\n      <td>8.11</td>\n      <td>Monday</td>\n    </tr>\n  </tbody>\n</table>\n</div>"
     },
     "metadata": {},
     "execution_count": 320
    }
   ],
   "source": [
    "walmart_data['Day'] = pd.to_datetime(walmart_data['Date']).dt.day_name()\n",
    "walmart_data.head()"
   ]
  },
  {
   "cell_type": "code",
   "execution_count": 4,
   "metadata": {},
   "outputs": [
    {
     "output_type": "execute_result",
     "data": {
      "text/plain": [
       "   Store  Date\n",
       "0      1     1\n",
       "1      1     2\n",
       "2      1     3\n",
       "3      1     4\n",
       "4      1     5"
      ],
      "text/html": "<div>\n<style scoped>\n    .dataframe tbody tr th:only-of-type {\n        vertical-align: middle;\n    }\n\n    .dataframe tbody tr th {\n        vertical-align: top;\n    }\n\n    .dataframe thead th {\n        text-align: right;\n    }\n</style>\n<table border=\"1\" class=\"dataframe\">\n  <thead>\n    <tr style=\"text-align: right;\">\n      <th></th>\n      <th>Store</th>\n      <th>Date</th>\n    </tr>\n  </thead>\n  <tbody>\n    <tr>\n      <th>0</th>\n      <td>1</td>\n      <td>1</td>\n    </tr>\n    <tr>\n      <th>1</th>\n      <td>1</td>\n      <td>2</td>\n    </tr>\n    <tr>\n      <th>2</th>\n      <td>1</td>\n      <td>3</td>\n    </tr>\n    <tr>\n      <th>3</th>\n      <td>1</td>\n      <td>4</td>\n    </tr>\n    <tr>\n      <th>4</th>\n      <td>1</td>\n      <td>5</td>\n    </tr>\n  </tbody>\n</table>\n</div>"
     },
     "metadata": {},
     "execution_count": 4
    }
   ],
   "source": [
    "x_features_object = walmart_data[walmart_data['Store'] ==1][['Store','Date']]\n",
    "date_obj = walmart_data[walmart_data['Store'] ==1][['Date']]\n",
    "date_obj.index +=1\n",
    "x_features_object.Date = date_obj.index\n",
    "x_features_object.head()"
   ]
  },
  {
   "cell_type": "code",
   "execution_count": 331,
   "metadata": {},
   "outputs": [
    {
     "output_type": "stream",
     "name": "stdout",
     "text": [
      "0.75\n0.9444444444444444\n"
     ]
    }
   ],
   "source": [
    "x_features_object = walmart_data[walmart_data['Store'] ==1][['Store','Date']]\n",
    "date_obj = walmart_data[walmart_data['Store'] ==1][['Date']]\n",
    "date_obj.index +=1\n",
    "x_features_object.Date = date_obj.index\n",
    "x_features_object\n",
    "\n",
    "response_set_cpi = walmart_data[walmart_data['Store'] ==1]['CPI'].astype('int64')\n",
    "response_set_unemployment = walmart_data[walmart_data['Store'] ==1]['Unemployment'].astype('int64')\n",
    "\n",
    "\n",
    "x_train_cpi,x_test_cpi,y_train_cpi,y_test_cpi = train_test_split(feature_dataset,response_set_cpi,random_state=1)\n",
    "x_train_unemp, x_test_unemp, y_train_unemp, y_test_unemp = train_test_split(feature_dataset,response_set_unemployment,random_state=1)\n",
    "\n",
    "from sklearn.linear_model import LogisticRegression\n",
    "logreg = LogisticRegression(max_iter=10000)\n",
    "logreg.fit(x_train_cpi,y_train_cpi)\n",
    "y_pred = logreg.predict(x_test_cpi)\n",
    "logreg.fit(x_train_unemp,y_train_unemp)\n",
    "\n",
    "\n",
    "y_pred_unemp = logreg.predict(x_test_unemp)\n",
    "\n",
    "\n",
    "from sklearn import metrics\n",
    "print(metrics.accuracy_score(y_test_cpi,y_pred))\n",
    "print(metrics.accuracy_score(y_test_unemp,y_pred_unemp))\n",
    "\n",
    "\n"
   ]
  },
  {
   "cell_type": "code",
   "execution_count": 333,
   "metadata": {},
   "outputs": [
    {
     "output_type": "stream",
     "name": "stdout",
     "text": [
      "cpi actual : [215 221 211 211 221 211 210 211 215 217]\ncpi Predicted : [215 221 211 211 221 211 211 211 215 217]\nactual Unemployment : [7 7 7 8 7 7 7 7 7 7 6 7 7 7 7 7 7 7 7 7 7 7 7 7 7 7 7 7 7 7]\nPredicted Unemployment : [7 7 7 7 6 7 7 7 7 7 6 7 7 7 7 7 7 7 7 7 7 7 7 7 7 7 7 7 7 7]\n"
     ]
    }
   ],
   "source": [
    "print('cpi actual :', y_test_cpi.values[0:10])\n",
    "print('cpi Predicted :', y_pred[0:10])\n",
    "print('actual Unemployment :', y_test_unemp.values[0:30])\n",
    "print('Predicted Unemployment :', y_pred_unemp[0:30])"
   ]
  },
  {
   "cell_type": "code",
   "execution_count": 325,
   "metadata": {},
   "outputs": [],
   "source": [
    "y_target = walmart_data[walmart_data['Store'] ==1]['Weekly_Sales']\n",
    "y_target.head()\n",
    "from sklearn.model_selection import train_test_split\n",
    "x_train,x_test,y_train,y_test = train_test_split(x_features_object,y_target,random_state=1)"
   ]
  },
  {
   "cell_type": "code",
   "execution_count": 327,
   "metadata": {},
   "outputs": [
    {
     "output_type": "execute_result",
     "data": {
      "text/plain": [
       "   Store    CPI  Unemployment  Fuel_Price\n",
       "0      1 211.10          8.11        2.57\n",
       "1      1 211.24          8.11        2.55\n",
       "2      1 211.29          8.11        2.51\n",
       "3      1 211.32          8.11        2.56\n",
       "4      1 211.35          8.11        2.62"
      ],
      "text/html": "<div>\n<style scoped>\n    .dataframe tbody tr th:only-of-type {\n        vertical-align: middle;\n    }\n\n    .dataframe tbody tr th {\n        vertical-align: top;\n    }\n\n    .dataframe thead th {\n        text-align: right;\n    }\n</style>\n<table border=\"1\" class=\"dataframe\">\n  <thead>\n    <tr style=\"text-align: right;\">\n      <th></th>\n      <th>Store</th>\n      <th>CPI</th>\n      <th>Unemployment</th>\n      <th>Fuel_Price</th>\n    </tr>\n  </thead>\n  <tbody>\n    <tr>\n      <th>0</th>\n      <td>1</td>\n      <td>211.10</td>\n      <td>8.11</td>\n      <td>2.57</td>\n    </tr>\n    <tr>\n      <th>1</th>\n      <td>1</td>\n      <td>211.24</td>\n      <td>8.11</td>\n      <td>2.55</td>\n    </tr>\n    <tr>\n      <th>2</th>\n      <td>1</td>\n      <td>211.29</td>\n      <td>8.11</td>\n      <td>2.51</td>\n    </tr>\n    <tr>\n      <th>3</th>\n      <td>1</td>\n      <td>211.32</td>\n      <td>8.11</td>\n      <td>2.56</td>\n    </tr>\n    <tr>\n      <th>4</th>\n      <td>1</td>\n      <td>211.35</td>\n      <td>8.11</td>\n      <td>2.62</td>\n    </tr>\n  </tbody>\n</table>\n</div>"
     },
     "metadata": {},
     "execution_count": 327
    }
   ],
   "source": [
    "from sklearn.linear_model import LinearRegression\n",
    "linreg = LinearRegression()\n",
    "linreg.fit(x_train,y_train)\n",
    "feature_dataset = walmart_data[walmart_data['Store'] ==1][['Store','CPI','Unemployment','Fuel_Price']]\n",
    "feature_dataset.head()"
   ]
  },
  {
   "cell_type": "code",
   "execution_count": null,
   "metadata": {},
   "outputs": [],
   "source": []
  }
 ]
}